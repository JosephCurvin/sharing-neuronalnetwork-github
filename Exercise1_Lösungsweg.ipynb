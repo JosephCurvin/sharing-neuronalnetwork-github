{
 "cells": [
  {
   "cell_type": "markdown",
   "metadata": {},
   "source": [
    "### Aufgabe 1\n",
    "\n",
    "eine 2x2 matrix erstellen mit random inhalt im Zahlenbereich von 0 bis 1 "
   ]
  },
  {
   "cell_type": "code",
   "execution_count": 2,
   "metadata": {},
   "outputs": [
    {
     "data": {
      "text/plain": [
       "array([[0, 0],\n",
       "       [0, 1]])"
      ]
     },
     "execution_count": 2,
     "metadata": {},
     "output_type": "execute_result"
    }
   ],
   "source": [
    "import numpy as np\n",
    "\n",
    "x1 = np.random.randint(2, size=(2,2))\n",
    "                       \n",
    "x1\n"
   ]
  },
  {
   "cell_type": "markdown",
   "metadata": {},
   "source": [
    "### Aufgabe 2\n",
    "list of list mit mit mehreren matrixen füllen"
   ]
  },
  {
   "cell_type": "code",
   "execution_count": 76,
   "metadata": {},
   "outputs": [
    {
     "name": "stdout",
     "output_type": "stream",
     "text": [
      "[array([[1, 1],\n",
      "       [1, 0]]), array([[0, 0],\n",
      "       [0, 1]]), array([[1, 0],\n",
      "       [1, 1]]), array([[0, 0],\n",
      "       [1, 0]]), array([[0, 1],\n",
      "       [1, 0]]), array([[0, 1],\n",
      "       [0, 0]]), array([[0, 0],\n",
      "       [0, 0]]), array([[1, 1],\n",
      "       [1, 1]])]\n",
      "8\n"
     ]
    }
   ],
   "source": [
    "x = []\n",
    "\n",
    "for _ in range (8):\n",
    "    x.append(np.random.randint(2, size=(2,2)))\n",
    "\n",
    "print(x)\n",
    "print(len(x))"
   ]
  },
  {
   "cell_type": "markdown",
   "metadata": {},
   "source": [
    "### Aufgabe 3\n",
    "nächstes element in der liste anzeigen"
   ]
  },
  {
   "cell_type": "code",
   "execution_count": 39,
   "metadata": {},
   "outputs": [],
   "source": [
    "x = iter(x)\n",
    "\n",
    "next(x)\n",
    "\n",
    "z = next(x)\n",
    "\n",
    "\n"
   ]
  },
  {
   "cell_type": "markdown",
   "metadata": {},
   "source": [
    "### Aufgabe 4\n",
    "index anzeigen der elemente in der liste\n"
   ]
  },
  {
   "cell_type": "code",
   "execution_count": 40,
   "metadata": {},
   "outputs": [
    {
     "name": "stdout",
     "output_type": "stream",
     "text": [
      "0 [[1 1]\n",
      " [1 1]]\n",
      "1 [[0 1]\n",
      " [1 0]]\n",
      "2 [[1 1]\n",
      " [1 1]]\n",
      "3 [[0 1]\n",
      " [1 1]]\n"
     ]
    }
   ],
   "source": [
    "for i,j in enumerate(x):\n",
    "    print(i, j)"
   ]
  },
  {
   "cell_type": "markdown",
   "metadata": {},
   "source": [
    "#### Funktion die mir eine liste von 2X2 Arrays ausgibt"
   ]
  },
  {
   "cell_type": "code",
   "execution_count": 15,
   "metadata": {},
   "outputs": [
    {
     "name": "stdout",
     "output_type": "stream",
     "text": [
      "[array([[1, 0],\n",
      "       [0, 0]]), array([[0, 0],\n",
      "       [1, 1]]), array([[1, 0],\n",
      "       [0, 0]]), array([[0, 0],\n",
      "       [0, 0]]), array([[1, 1],\n",
      "       [1, 1]]), array([[1, 1],\n",
      "       [0, 1]]), array([[0, 1],\n",
      "       [0, 1]]), array([[1, 0],\n",
      "       [1, 0]])]\n"
     ]
    },
    {
     "data": {
      "text/plain": [
       "array([[1, 0],\n",
       "       [0, 0]])"
      ]
     },
     "execution_count": 15,
     "metadata": {},
     "output_type": "execute_result"
    }
   ],
   "source": [
    "def glubber(what_range):\n",
    "    return [np.random.randint(2, size=(2, 2)) for _ in range(what_range)]\n",
    "\n",
    "\n",
    "\n",
    "\n",
    "v = glubber(8)\n",
    "\n",
    "\n",
    "print(v)\n",
    "\n",
    "\n",
    "iteration = iter(v)\n",
    "\n",
    "next(iteration)\n",
    "\n"
   ]
  },
  {
   "cell_type": "code",
   "execution_count": 24,
   "metadata": {},
   "outputs": [
    {
     "name": "stdout",
     "output_type": "stream",
     "text": [
      "0 [[0 1]\n",
      " [1 0]]\n",
      "1 [[1 1]\n",
      " [1 1]]\n",
      "2 [[0 1]\n",
      " [0 0]]\n",
      "3 [[0 0]\n",
      " [1 0]]\n",
      "4 [[1 1]\n",
      " [1 0]]\n",
      "5 [[0 0]\n",
      " [0 0]]\n",
      "6 [[1 1]\n",
      " [1 0]]\n",
      "7 [[0 0]\n",
      " [0 1]]\n",
      "8 [[0 1]\n",
      " [0 0]]\n"
     ]
    }
   ],
   "source": [
    "v = glubber(9)\n",
    "\n",
    "\n",
    "\n",
    "\n",
    "\n",
    "iteration = iter(v)\n",
    "\n",
    "\n",
    "\n",
    "\n",
    "for i,j in enumerate(iteration):\n",
    "                     print(i, j)"
   ]
  }
 ],
 "metadata": {
  "kernelspec": {
   "display_name": "Python 3",
   "language": "python",
   "name": "python3"
  },
  "language_info": {
   "codemirror_mode": {
    "name": "ipython",
    "version": 3
   },
   "file_extension": ".py",
   "mimetype": "text/x-python",
   "name": "python",
   "nbconvert_exporter": "python",
   "pygments_lexer": "ipython3",
   "version": "3.7.3"
  }
 },
 "nbformat": 4,
 "nbformat_minor": 4
}
